{
 "cells": [
  {
   "cell_type": "markdown",
   "metadata": {},
   "source": [
    "## import modules"
   ]
  },
  {
   "cell_type": "code",
   "execution_count": 3,
   "metadata": {
    "scrolled": true
   },
   "outputs": [
    {
     "name": "stdout",
     "output_type": "stream",
     "text": [
      "Requirement already satisfied: torch==2.2 in /Users/koyiljonvaliev/Anaconda/anaconda3/envs/TorchEnv/lib/python3.9/site-packages (2.2.0)\n",
      "Requirement already satisfied: filelock in /Users/koyiljonvaliev/Anaconda/anaconda3/envs/TorchEnv/lib/python3.9/site-packages (from torch==2.2) (3.13.1)\n",
      "Requirement already satisfied: typing-extensions>=4.8.0 in /Users/koyiljonvaliev/Anaconda/anaconda3/envs/TorchEnv/lib/python3.9/site-packages (from torch==2.2) (4.11.0)\n",
      "Requirement already satisfied: sympy in /Users/koyiljonvaliev/Anaconda/anaconda3/envs/TorchEnv/lib/python3.9/site-packages (from torch==2.2) (1.12)\n",
      "Requirement already satisfied: networkx in /Users/koyiljonvaliev/Anaconda/anaconda3/envs/TorchEnv/lib/python3.9/site-packages (from torch==2.2) (3.1)\n",
      "Requirement already satisfied: jinja2 in /Users/koyiljonvaliev/Anaconda/anaconda3/envs/TorchEnv/lib/python3.9/site-packages (from torch==2.2) (3.1.3)\n",
      "Requirement already satisfied: fsspec in /Users/koyiljonvaliev/Anaconda/anaconda3/envs/TorchEnv/lib/python3.9/site-packages (from torch==2.2) (2024.3.1)\n",
      "Requirement already satisfied: MarkupSafe>=2.0 in /Users/koyiljonvaliev/Anaconda/anaconda3/envs/TorchEnv/lib/python3.9/site-packages (from jinja2->torch==2.2) (2.1.3)\n",
      "Requirement already satisfied: mpmath>=0.19 in /Users/koyiljonvaliev/Anaconda/anaconda3/envs/TorchEnv/lib/python3.9/site-packages (from sympy->torch==2.2) (1.3.0)\n",
      "Requirement already satisfied: torchvision==0.17 in /Users/koyiljonvaliev/Anaconda/anaconda3/envs/TorchEnv/lib/python3.9/site-packages (0.17.0)\n",
      "Requirement already satisfied: numpy in /Users/koyiljonvaliev/Anaconda/anaconda3/envs/TorchEnv/lib/python3.9/site-packages (from torchvision==0.17) (1.26.4)\n",
      "Requirement already satisfied: requests in /Users/koyiljonvaliev/Anaconda/anaconda3/envs/TorchEnv/lib/python3.9/site-packages (from torchvision==0.17) (2.31.0)\n",
      "Requirement already satisfied: torch==2.2.0 in /Users/koyiljonvaliev/Anaconda/anaconda3/envs/TorchEnv/lib/python3.9/site-packages (from torchvision==0.17) (2.2.0)\n",
      "Requirement already satisfied: pillow!=8.3.*,>=5.3.0 in /Users/koyiljonvaliev/Anaconda/anaconda3/envs/TorchEnv/lib/python3.9/site-packages (from torchvision==0.17) (10.3.0)\n",
      "Requirement already satisfied: filelock in /Users/koyiljonvaliev/Anaconda/anaconda3/envs/TorchEnv/lib/python3.9/site-packages (from torch==2.2.0->torchvision==0.17) (3.13.1)\n",
      "Requirement already satisfied: typing-extensions>=4.8.0 in /Users/koyiljonvaliev/Anaconda/anaconda3/envs/TorchEnv/lib/python3.9/site-packages (from torch==2.2.0->torchvision==0.17) (4.11.0)\n",
      "Requirement already satisfied: sympy in /Users/koyiljonvaliev/Anaconda/anaconda3/envs/TorchEnv/lib/python3.9/site-packages (from torch==2.2.0->torchvision==0.17) (1.12)\n",
      "Requirement already satisfied: networkx in /Users/koyiljonvaliev/Anaconda/anaconda3/envs/TorchEnv/lib/python3.9/site-packages (from torch==2.2.0->torchvision==0.17) (3.1)\n",
      "Requirement already satisfied: jinja2 in /Users/koyiljonvaliev/Anaconda/anaconda3/envs/TorchEnv/lib/python3.9/site-packages (from torch==2.2.0->torchvision==0.17) (3.1.3)\n",
      "Requirement already satisfied: fsspec in /Users/koyiljonvaliev/Anaconda/anaconda3/envs/TorchEnv/lib/python3.9/site-packages (from torch==2.2.0->torchvision==0.17) (2024.3.1)\n",
      "Requirement already satisfied: charset-normalizer<4,>=2 in /Users/koyiljonvaliev/Anaconda/anaconda3/envs/TorchEnv/lib/python3.9/site-packages (from requests->torchvision==0.17) (2.0.4)\n",
      "Requirement already satisfied: idna<4,>=2.5 in /Users/koyiljonvaliev/Anaconda/anaconda3/envs/TorchEnv/lib/python3.9/site-packages (from requests->torchvision==0.17) (3.7)\n",
      "Requirement already satisfied: urllib3<3,>=1.21.1 in /Users/koyiljonvaliev/Anaconda/anaconda3/envs/TorchEnv/lib/python3.9/site-packages (from requests->torchvision==0.17) (2.1.0)\n",
      "Requirement already satisfied: certifi>=2017.4.17 in /Users/koyiljonvaliev/Anaconda/anaconda3/envs/TorchEnv/lib/python3.9/site-packages (from requests->torchvision==0.17) (2024.2.2)\n",
      "Requirement already satisfied: MarkupSafe>=2.0 in /Users/koyiljonvaliev/Anaconda/anaconda3/envs/TorchEnv/lib/python3.9/site-packages (from jinja2->torch==2.2.0->torchvision==0.17) (2.1.3)\n",
      "Requirement already satisfied: mpmath>=0.19 in /Users/koyiljonvaliev/Anaconda/anaconda3/envs/TorchEnv/lib/python3.9/site-packages (from sympy->torch==2.2.0->torchvision==0.17) (1.3.0)\n",
      "Requirement already satisfied: matplotlib==3.5.2 in /Users/koyiljonvaliev/Anaconda/anaconda3/envs/TorchEnv/lib/python3.9/site-packages (3.5.2)\n",
      "Requirement already satisfied: cycler>=0.10 in /Users/koyiljonvaliev/Anaconda/anaconda3/envs/TorchEnv/lib/python3.9/site-packages (from matplotlib==3.5.2) (0.11.0)\n",
      "Requirement already satisfied: fonttools>=4.22.0 in /Users/koyiljonvaliev/Anaconda/anaconda3/envs/TorchEnv/lib/python3.9/site-packages (from matplotlib==3.5.2) (4.51.0)\n",
      "Requirement already satisfied: kiwisolver>=1.0.1 in /Users/koyiljonvaliev/Anaconda/anaconda3/envs/TorchEnv/lib/python3.9/site-packages (from matplotlib==3.5.2) (1.4.4)\n",
      "Requirement already satisfied: numpy>=1.17 in /Users/koyiljonvaliev/Anaconda/anaconda3/envs/TorchEnv/lib/python3.9/site-packages (from matplotlib==3.5.2) (1.26.4)\n",
      "Requirement already satisfied: packaging>=20.0 in /Users/koyiljonvaliev/Anaconda/anaconda3/envs/TorchEnv/lib/python3.9/site-packages (from matplotlib==3.5.2) (24.0)\n",
      "Requirement already satisfied: pillow>=6.2.0 in /Users/koyiljonvaliev/Anaconda/anaconda3/envs/TorchEnv/lib/python3.9/site-packages (from matplotlib==3.5.2) (10.3.0)\n",
      "Requirement already satisfied: pyparsing>=2.2.1 in /Users/koyiljonvaliev/Anaconda/anaconda3/envs/TorchEnv/lib/python3.9/site-packages (from matplotlib==3.5.2) (3.0.9)\n",
      "Requirement already satisfied: python-dateutil>=2.7 in /Users/koyiljonvaliev/Anaconda/anaconda3/envs/TorchEnv/lib/python3.9/site-packages (from matplotlib==3.5.2) (2.9.0)\n",
      "Requirement already satisfied: six>=1.5 in /Users/koyiljonvaliev/Anaconda/anaconda3/envs/TorchEnv/lib/python3.9/site-packages (from python-dateutil>=2.7->matplotlib==3.5.2) (1.16.0)\n"
     ]
    }
   ],
   "source": [
    "!pip install torch==2.2\n",
    "!pip install torchvision==0.17\n",
    "!pip install matplotlib==3.5.2"
   ]
  },
  {
   "cell_type": "code",
   "execution_count": 4,
   "metadata": {},
   "outputs": [],
   "source": [
    "import torch\n",
    "import torch.nn as nn\n",
    "import torch.nn.functional as F\n",
    "import torch.optim as optim\n",
    "from torch.utils.data import DataLoader\n",
    "from torchvision import datasets, transforms\n",
    "\n",
    "import matplotlib.pyplot as plt"
   ]
  },
  {
   "cell_type": "markdown",
   "metadata": {},
   "source": [
    "## define model architecture"
   ]
  },
  {
   "cell_type": "code",
   "execution_count": 5,
   "metadata": {},
   "outputs": [],
   "source": [
    "class ConvNet(nn.Module):\n",
    "    def __init__(self):\n",
    "        super(ConvNet, self).__init__()\n",
    "        self.cn1 = nn.Conv2d(1, 16, 3, 1)\n",
    "        self.cn2 = nn.Conv2d(16, 32, 3, 1)\n",
    "        self.dp1 = nn.Dropout2d(0.10)\n",
    "        self.dp2 = nn.Dropout2d(0.25)\n",
    "        self.fc1 = nn.Linear(4608, 64) # 4608 is basically 12 X 12 X 32\n",
    "        self.fc2 = nn.Linear(64, 10)\n",
    " \n",
    "    def forward(self, x):\n",
    "        x = self.cn1(x)\n",
    "        x = F.relu(x)\n",
    "        x = self.cn2(x)\n",
    "        x = F.relu(x)\n",
    "        x = F.max_pool2d(x, 2)\n",
    "        x = self.dp1(x)\n",
    "        x = torch.flatten(x, 1)\n",
    "        x = self.fc1(x)\n",
    "        x = F.relu(x)\n",
    "        x = self.dp2(x)\n",
    "        x = self.fc2(x)\n",
    "        op = F.log_softmax(x, dim=1)\n",
    "        return op"
   ]
  },
  {
   "cell_type": "markdown",
   "metadata": {},
   "source": [
    "## define training and inference routines"
   ]
  },
  {
   "cell_type": "code",
   "execution_count": 6,
   "metadata": {},
   "outputs": [],
   "source": [
    "def train(model, device, train_dataloader, optim, epoch):\n",
    "    model.train()\n",
    "    for b_i, (X, y) in enumerate(train_dataloader):\n",
    "        X, y = X.to(device), y.to(device)\n",
    "        optim.zero_grad()\n",
    "        pred_prob = model(X)\n",
    "        loss = F.nll_loss(pred_prob, y) # nll is the negative likelihood loss\n",
    "        loss.backward()\n",
    "        optim.step()\n",
    "        if b_i % 10 == 0:\n",
    "            print('epoch: {} [{}/{} ({:.0f}%)]\\t training loss: {:.6f}'.format(\n",
    "                epoch, b_i * len(X), len(train_dataloader.dataset),\n",
    "                100. * b_i / len(train_dataloader), loss.item()))\n"
   ]
  },
  {
   "cell_type": "code",
   "execution_count": 7,
   "metadata": {},
   "outputs": [],
   "source": [
    "def test(model, device, test_dataloader):\n",
    "    model.eval()\n",
    "    loss = 0\n",
    "    success = 0\n",
    "    with torch.no_grad():\n",
    "        for X, y in test_dataloader:\n",
    "            X, y = X.to(device), y.to(device)\n",
    "            pred_prob = model(X)\n",
    "            loss += F.nll_loss(pred_prob, y, reduction='sum').item()  # loss summed across the batch\n",
    "            pred = pred_prob.argmax(dim=1, keepdim=True)  # us argmax to get the most likely prediction\n",
    "            success += pred.eq(y.view_as(pred)).sum().item()\n",
    "\n",
    "    loss /= len(test_dataloader.dataset)\n",
    "\n",
    "    print('\\nTest dataset: Overall Loss: {:.4f}, Overall Accuracy: {}/{} ({:.0f}%)\\n'.format(\n",
    "        loss, success, len(test_dataloader.dataset),\n",
    "        100. * success / len(test_dataloader.dataset)))\n"
   ]
  },
  {
   "cell_type": "markdown",
   "metadata": {},
   "source": [
    "## create data loaders"
   ]
  },
  {
   "cell_type": "code",
   "execution_count": 8,
   "metadata": {},
   "outputs": [
    {
     "name": "stdout",
     "output_type": "stream",
     "text": [
      "Downloading http://yann.lecun.com/exdb/mnist/train-images-idx3-ubyte.gz\n",
      "Failed to download (trying next):\n",
      "HTTP Error 403: Forbidden\n",
      "\n",
      "Downloading https://ossci-datasets.s3.amazonaws.com/mnist/train-images-idx3-ubyte.gz\n",
      "Downloading https://ossci-datasets.s3.amazonaws.com/mnist/train-images-idx3-ubyte.gz to ../data/MNIST/raw/train-images-idx3-ubyte.gz\n"
     ]
    },
    {
     "name": "stderr",
     "output_type": "stream",
     "text": [
      "100%|██████████| 9912422/9912422 [00:02<00:00, 4682170.39it/s] \n"
     ]
    },
    {
     "name": "stdout",
     "output_type": "stream",
     "text": [
      "Extracting ../data/MNIST/raw/train-images-idx3-ubyte.gz to ../data/MNIST/raw\n",
      "\n",
      "Downloading http://yann.lecun.com/exdb/mnist/train-labels-idx1-ubyte.gz\n",
      "Failed to download (trying next):\n",
      "HTTP Error 403: Forbidden\n",
      "\n",
      "Downloading https://ossci-datasets.s3.amazonaws.com/mnist/train-labels-idx1-ubyte.gz\n",
      "Downloading https://ossci-datasets.s3.amazonaws.com/mnist/train-labels-idx1-ubyte.gz to ../data/MNIST/raw/train-labels-idx1-ubyte.gz\n"
     ]
    },
    {
     "name": "stderr",
     "output_type": "stream",
     "text": [
      "100%|██████████| 28881/28881 [00:00<00:00, 152771.45it/s]\n"
     ]
    },
    {
     "name": "stdout",
     "output_type": "stream",
     "text": [
      "Extracting ../data/MNIST/raw/train-labels-idx1-ubyte.gz to ../data/MNIST/raw\n",
      "\n",
      "Downloading http://yann.lecun.com/exdb/mnist/t10k-images-idx3-ubyte.gz\n",
      "Failed to download (trying next):\n",
      "HTTP Error 403: Forbidden\n",
      "\n",
      "Downloading https://ossci-datasets.s3.amazonaws.com/mnist/t10k-images-idx3-ubyte.gz\n",
      "Downloading https://ossci-datasets.s3.amazonaws.com/mnist/t10k-images-idx3-ubyte.gz to ../data/MNIST/raw/t10k-images-idx3-ubyte.gz\n"
     ]
    },
    {
     "name": "stderr",
     "output_type": "stream",
     "text": [
      "100%|██████████| 1648877/1648877 [00:00<00:00, 1691473.72it/s]\n"
     ]
    },
    {
     "name": "stdout",
     "output_type": "stream",
     "text": [
      "Extracting ../data/MNIST/raw/t10k-images-idx3-ubyte.gz to ../data/MNIST/raw\n",
      "\n",
      "Downloading http://yann.lecun.com/exdb/mnist/t10k-labels-idx1-ubyte.gz\n",
      "Failed to download (trying next):\n",
      "HTTP Error 403: Forbidden\n",
      "\n",
      "Downloading https://ossci-datasets.s3.amazonaws.com/mnist/t10k-labels-idx1-ubyte.gz\n",
      "Downloading https://ossci-datasets.s3.amazonaws.com/mnist/t10k-labels-idx1-ubyte.gz to ../data/MNIST/raw/t10k-labels-idx1-ubyte.gz\n"
     ]
    },
    {
     "name": "stderr",
     "output_type": "stream",
     "text": [
      "100%|██████████| 4542/4542 [00:00<00:00, 1050715.83it/s]"
     ]
    },
    {
     "name": "stdout",
     "output_type": "stream",
     "text": [
      "Extracting ../data/MNIST/raw/t10k-labels-idx1-ubyte.gz to ../data/MNIST/raw\n",
      "\n"
     ]
    },
    {
     "name": "stderr",
     "output_type": "stream",
     "text": [
      "\n"
     ]
    }
   ],
   "source": [
    "# The mean and standard deviation values are calculated as the mean of all pixel values of all images in the training dataset\n",
    "train_dataloader = torch.utils.data.DataLoader(\n",
    "    datasets.MNIST('../data', train=True, download=True,\n",
    "                   transform=transforms.Compose([\n",
    "                       transforms.ToTensor(),\n",
    "                       transforms.Normalize((0.1302,), (0.3069,))])), # train_X.mean()/256. and train_X.std()/256.\n",
    "    batch_size=32, shuffle=True)\n",
    "\n",
    "test_dataloader = torch.utils.data.DataLoader(\n",
    "    datasets.MNIST('../data', train=False, \n",
    "                   transform=transforms.Compose([\n",
    "                       transforms.ToTensor(),\n",
    "                       transforms.Normalize((0.1302,), (0.3069,)) \n",
    "                   ])),\n",
    "    batch_size=500, shuffle=False)"
   ]
  },
  {
   "cell_type": "markdown",
   "metadata": {},
   "source": [
    "## define optimizer and run training epochs"
   ]
  },
  {
   "cell_type": "code",
   "execution_count": 13,
   "metadata": {},
   "outputs": [
    {
     "name": "stdout",
     "output_type": "stream",
     "text": [
      "cpu\n"
     ]
    }
   ],
   "source": [
    "torch.manual_seed(0)\n",
    "device = torch.device(\"cpu\")\n",
    "\n",
    "model = ConvNet()\n",
    "optimizer = optim.Adadelta(model.parameters(), lr=0.5)\n",
    "print(device)"
   ]
  },
  {
   "cell_type": "markdown",
   "metadata": {},
   "source": [
    "## model training"
   ]
  },
  {
   "cell_type": "code",
   "execution_count": 10,
   "metadata": {
    "scrolled": true
   },
   "outputs": [
    {
     "name": "stderr",
     "output_type": "stream",
     "text": [
      "/Users/koyiljonvaliev/Anaconda/anaconda3/envs/TorchEnv/lib/python3.9/site-packages/torch/nn/functional.py:1347: UserWarning: dropout2d: Received a 2-D input to dropout2d, which is deprecated and will result in an error in a future release. To retain the behavior and silence this warning, please use dropout instead. Note that dropout2d exists to provide channel-wise dropout on inputs with 2 spatial dimensions, a channel dimension, and an optional batch dimension (i.e. 3D or 4D inputs).\n",
      "  warnings.warn(warn_msg)\n"
     ]
    },
    {
     "name": "stdout",
     "output_type": "stream",
     "text": [
      "epoch: 1 [0/60000 (0%)]\t training loss: 2.301478\n",
      "epoch: 1 [320/60000 (1%)]\t training loss: 1.744134\n",
      "epoch: 1 [640/60000 (1%)]\t training loss: 1.240414\n",
      "epoch: 1 [960/60000 (2%)]\t training loss: 0.842433\n",
      "epoch: 1 [1280/60000 (2%)]\t training loss: 0.941773\n",
      "epoch: 1 [1600/60000 (3%)]\t training loss: 0.560327\n",
      "epoch: 1 [1920/60000 (3%)]\t training loss: 0.618091\n",
      "epoch: 1 [2240/60000 (4%)]\t training loss: 0.550037\n",
      "epoch: 1 [2560/60000 (4%)]\t training loss: 0.466988\n",
      "epoch: 1 [2880/60000 (5%)]\t training loss: 0.364648\n",
      "epoch: 1 [3200/60000 (5%)]\t training loss: 0.360760\n",
      "epoch: 1 [3520/60000 (6%)]\t training loss: 0.372012\n",
      "epoch: 1 [3840/60000 (6%)]\t training loss: 0.345530\n",
      "epoch: 1 [4160/60000 (7%)]\t training loss: 0.450240\n",
      "epoch: 1 [4480/60000 (7%)]\t training loss: 0.361009\n",
      "epoch: 1 [4800/60000 (8%)]\t training loss: 0.492666\n",
      "epoch: 1 [5120/60000 (9%)]\t training loss: 0.214742\n",
      "epoch: 1 [5440/60000 (9%)]\t training loss: 0.320009\n",
      "epoch: 1 [5760/60000 (10%)]\t training loss: 0.130372\n",
      "epoch: 1 [6080/60000 (10%)]\t training loss: 0.341662\n",
      "epoch: 1 [6400/60000 (11%)]\t training loss: 0.264073\n",
      "epoch: 1 [6720/60000 (11%)]\t training loss: 0.073755\n",
      "epoch: 1 [7040/60000 (12%)]\t training loss: 0.264927\n",
      "epoch: 1 [7360/60000 (12%)]\t training loss: 0.070844\n",
      "epoch: 1 [7680/60000 (13%)]\t training loss: 0.251760\n",
      "epoch: 1 [8000/60000 (13%)]\t training loss: 0.179445\n",
      "epoch: 1 [8320/60000 (14%)]\t training loss: 0.364796\n",
      "epoch: 1 [8640/60000 (14%)]\t training loss: 0.114472\n",
      "epoch: 1 [8960/60000 (15%)]\t training loss: 0.069329\n",
      "epoch: 1 [9280/60000 (15%)]\t training loss: 0.282671\n",
      "epoch: 1 [9600/60000 (16%)]\t training loss: 0.209856\n",
      "epoch: 1 [9920/60000 (17%)]\t training loss: 0.212219\n",
      "epoch: 1 [10240/60000 (17%)]\t training loss: 0.207745\n",
      "epoch: 1 [10560/60000 (18%)]\t training loss: 0.549444\n",
      "epoch: 1 [10880/60000 (18%)]\t training loss: 0.097491\n",
      "epoch: 1 [11200/60000 (19%)]\t training loss: 0.169683\n",
      "epoch: 1 [11520/60000 (19%)]\t training loss: 0.318149\n",
      "epoch: 1 [11840/60000 (20%)]\t training loss: 0.049851\n",
      "epoch: 1 [12160/60000 (20%)]\t training loss: 0.155354\n",
      "epoch: 1 [12480/60000 (21%)]\t training loss: 0.042286\n",
      "epoch: 1 [12800/60000 (21%)]\t training loss: 0.130284\n",
      "epoch: 1 [13120/60000 (22%)]\t training loss: 0.129004\n",
      "epoch: 1 [13440/60000 (22%)]\t training loss: 0.087612\n",
      "epoch: 1 [13760/60000 (23%)]\t training loss: 0.045910\n",
      "epoch: 1 [14080/60000 (23%)]\t training loss: 0.036080\n",
      "epoch: 1 [14400/60000 (24%)]\t training loss: 0.111036\n",
      "epoch: 1 [14720/60000 (25%)]\t training loss: 0.139769\n",
      "epoch: 1 [15040/60000 (25%)]\t training loss: 0.071767\n",
      "epoch: 1 [15360/60000 (26%)]\t training loss: 0.227553\n",
      "epoch: 1 [15680/60000 (26%)]\t training loss: 0.219436\n",
      "epoch: 1 [16000/60000 (27%)]\t training loss: 0.169867\n",
      "epoch: 1 [16320/60000 (27%)]\t training loss: 0.097862\n",
      "epoch: 1 [16640/60000 (28%)]\t training loss: 0.033916\n",
      "epoch: 1 [16960/60000 (28%)]\t training loss: 0.093812\n",
      "epoch: 1 [17280/60000 (29%)]\t training loss: 0.074487\n",
      "epoch: 1 [17600/60000 (29%)]\t training loss: 0.091775\n",
      "epoch: 1 [17920/60000 (30%)]\t training loss: 0.046899\n",
      "epoch: 1 [18240/60000 (30%)]\t training loss: 0.042306\n",
      "epoch: 1 [18560/60000 (31%)]\t training loss: 0.083839\n",
      "epoch: 1 [18880/60000 (31%)]\t training loss: 0.279189\n",
      "epoch: 1 [19200/60000 (32%)]\t training loss: 0.129290\n",
      "epoch: 1 [19520/60000 (33%)]\t training loss: 0.123981\n",
      "epoch: 1 [19840/60000 (33%)]\t training loss: 0.089299\n",
      "epoch: 1 [20160/60000 (34%)]\t training loss: 0.066918\n",
      "epoch: 1 [20480/60000 (34%)]\t training loss: 0.086563\n",
      "epoch: 1 [20800/60000 (35%)]\t training loss: 0.064400\n",
      "epoch: 1 [21120/60000 (35%)]\t training loss: 0.317303\n",
      "epoch: 1 [21440/60000 (36%)]\t training loss: 0.078385\n",
      "epoch: 1 [21760/60000 (36%)]\t training loss: 0.130031\n",
      "epoch: 1 [22080/60000 (37%)]\t training loss: 0.052949\n",
      "epoch: 1 [22400/60000 (37%)]\t training loss: 0.218262\n",
      "epoch: 1 [22720/60000 (38%)]\t training loss: 0.273804\n",
      "epoch: 1 [23040/60000 (38%)]\t training loss: 0.027627\n",
      "epoch: 1 [23360/60000 (39%)]\t training loss: 0.216724\n",
      "epoch: 1 [23680/60000 (39%)]\t training loss: 0.373541\n",
      "epoch: 1 [24000/60000 (40%)]\t training loss: 0.128043\n",
      "epoch: 1 [24320/60000 (41%)]\t training loss: 0.063545\n",
      "epoch: 1 [24640/60000 (41%)]\t training loss: 0.192048\n",
      "epoch: 1 [24960/60000 (42%)]\t training loss: 0.056249\n",
      "epoch: 1 [25280/60000 (42%)]\t training loss: 0.037626\n",
      "epoch: 1 [25600/60000 (43%)]\t training loss: 0.298936\n",
      "epoch: 1 [25920/60000 (43%)]\t training loss: 0.530945\n",
      "epoch: 1 [26240/60000 (44%)]\t training loss: 0.032995\n",
      "epoch: 1 [26560/60000 (44%)]\t training loss: 0.042659\n",
      "epoch: 1 [26880/60000 (45%)]\t training loss: 0.171239\n",
      "epoch: 1 [27200/60000 (45%)]\t training loss: 0.051750\n",
      "epoch: 1 [27520/60000 (46%)]\t training loss: 0.020792\n",
      "epoch: 1 [27840/60000 (46%)]\t training loss: 0.126411\n",
      "epoch: 1 [28160/60000 (47%)]\t training loss: 0.006925\n",
      "epoch: 1 [28480/60000 (47%)]\t training loss: 0.190344\n",
      "epoch: 1 [28800/60000 (48%)]\t training loss: 0.103108\n",
      "epoch: 1 [29120/60000 (49%)]\t training loss: 0.478156\n",
      "epoch: 1 [29440/60000 (49%)]\t training loss: 0.017154\n",
      "epoch: 1 [29760/60000 (50%)]\t training loss: 0.094872\n",
      "epoch: 1 [30080/60000 (50%)]\t training loss: 0.366553\n",
      "epoch: 1 [30400/60000 (51%)]\t training loss: 0.034330\n",
      "epoch: 1 [30720/60000 (51%)]\t training loss: 0.077762\n",
      "epoch: 1 [31040/60000 (52%)]\t training loss: 0.105823\n",
      "epoch: 1 [31360/60000 (52%)]\t training loss: 0.056875\n",
      "epoch: 1 [31680/60000 (53%)]\t training loss: 0.030979\n",
      "epoch: 1 [32000/60000 (53%)]\t training loss: 0.004620\n",
      "epoch: 1 [32320/60000 (54%)]\t training loss: 0.063316\n",
      "epoch: 1 [32640/60000 (54%)]\t training loss: 0.211531\n",
      "epoch: 1 [32960/60000 (55%)]\t training loss: 0.005797\n",
      "epoch: 1 [33280/60000 (55%)]\t training loss: 0.425234\n",
      "epoch: 1 [33600/60000 (56%)]\t training loss: 0.076570\n",
      "epoch: 1 [33920/60000 (57%)]\t training loss: 0.045645\n",
      "epoch: 1 [34240/60000 (57%)]\t training loss: 0.030384\n",
      "epoch: 1 [34560/60000 (58%)]\t training loss: 0.009230\n",
      "epoch: 1 [34880/60000 (58%)]\t training loss: 0.066181\n",
      "epoch: 1 [35200/60000 (59%)]\t training loss: 0.118920\n",
      "epoch: 1 [35520/60000 (59%)]\t training loss: 0.067653\n",
      "epoch: 1 [35840/60000 (60%)]\t training loss: 0.045051\n",
      "epoch: 1 [36160/60000 (60%)]\t training loss: 0.010919\n",
      "epoch: 1 [36480/60000 (61%)]\t training loss: 0.057055\n",
      "epoch: 1 [36800/60000 (61%)]\t training loss: 0.166272\n",
      "epoch: 1 [37120/60000 (62%)]\t training loss: 0.229113\n",
      "epoch: 1 [37440/60000 (62%)]\t training loss: 0.138098\n",
      "epoch: 1 [37760/60000 (63%)]\t training loss: 0.018390\n",
      "epoch: 1 [38080/60000 (63%)]\t training loss: 0.098363\n",
      "epoch: 1 [38400/60000 (64%)]\t training loss: 0.137440\n",
      "epoch: 1 [38720/60000 (65%)]\t training loss: 0.238496\n",
      "epoch: 1 [39040/60000 (65%)]\t training loss: 0.018944\n",
      "epoch: 1 [39360/60000 (66%)]\t training loss: 0.287898\n",
      "epoch: 1 [39680/60000 (66%)]\t training loss: 0.036350\n",
      "epoch: 1 [40000/60000 (67%)]\t training loss: 0.083966\n",
      "epoch: 1 [40320/60000 (67%)]\t training loss: 0.041121\n",
      "epoch: 1 [40640/60000 (68%)]\t training loss: 0.130506\n",
      "epoch: 1 [40960/60000 (68%)]\t training loss: 0.182454\n",
      "epoch: 1 [41280/60000 (69%)]\t training loss: 0.283817\n",
      "epoch: 1 [41600/60000 (69%)]\t training loss: 0.155995\n",
      "epoch: 1 [41920/60000 (70%)]\t training loss: 0.048546\n",
      "epoch: 1 [42240/60000 (70%)]\t training loss: 0.008610\n",
      "epoch: 1 [42560/60000 (71%)]\t training loss: 0.016986\n",
      "epoch: 1 [42880/60000 (71%)]\t training loss: 0.090198\n",
      "epoch: 1 [43200/60000 (72%)]\t training loss: 0.044622\n",
      "epoch: 1 [43520/60000 (73%)]\t training loss: 0.131727\n",
      "epoch: 1 [43840/60000 (73%)]\t training loss: 0.083047\n",
      "epoch: 1 [44160/60000 (74%)]\t training loss: 0.155261\n",
      "epoch: 1 [44480/60000 (74%)]\t training loss: 0.058403\n",
      "epoch: 1 [44800/60000 (75%)]\t training loss: 0.257755\n",
      "epoch: 1 [45120/60000 (75%)]\t training loss: 0.102807\n",
      "epoch: 1 [45440/60000 (76%)]\t training loss: 0.139460\n",
      "epoch: 1 [45760/60000 (76%)]\t training loss: 0.016575\n",
      "epoch: 1 [46080/60000 (77%)]\t training loss: 0.383133\n",
      "epoch: 1 [46400/60000 (77%)]\t training loss: 0.078686\n",
      "epoch: 1 [46720/60000 (78%)]\t training loss: 0.200065\n",
      "epoch: 1 [47040/60000 (78%)]\t training loss: 0.079936\n",
      "epoch: 1 [47360/60000 (79%)]\t training loss: 0.090462\n",
      "epoch: 1 [47680/60000 (79%)]\t training loss: 0.150604\n",
      "epoch: 1 [48000/60000 (80%)]\t training loss: 0.130546\n",
      "epoch: 1 [48320/60000 (81%)]\t training loss: 0.134362\n",
      "epoch: 1 [48640/60000 (81%)]\t training loss: 0.015243\n",
      "epoch: 1 [48960/60000 (82%)]\t training loss: 0.007391\n",
      "epoch: 1 [49280/60000 (82%)]\t training loss: 0.252014\n",
      "epoch: 1 [49600/60000 (83%)]\t training loss: 0.066884\n",
      "epoch: 1 [49920/60000 (83%)]\t training loss: 0.012773\n",
      "epoch: 1 [50240/60000 (84%)]\t training loss: 0.105424\n",
      "epoch: 1 [50560/60000 (84%)]\t training loss: 0.002614\n",
      "epoch: 1 [50880/60000 (85%)]\t training loss: 0.007993\n",
      "epoch: 1 [51200/60000 (85%)]\t training loss: 0.208657\n",
      "epoch: 1 [51520/60000 (86%)]\t training loss: 0.005922\n",
      "epoch: 1 [51840/60000 (86%)]\t training loss: 0.020006\n",
      "epoch: 1 [52160/60000 (87%)]\t training loss: 0.017129\n",
      "epoch: 1 [52480/60000 (87%)]\t training loss: 0.031460\n",
      "epoch: 1 [52800/60000 (88%)]\t training loss: 0.056091\n",
      "epoch: 1 [53120/60000 (89%)]\t training loss: 0.038543\n",
      "epoch: 1 [53440/60000 (89%)]\t training loss: 0.111476\n",
      "epoch: 1 [53760/60000 (90%)]\t training loss: 0.077767\n",
      "epoch: 1 [54080/60000 (90%)]\t training loss: 0.025189\n",
      "epoch: 1 [54400/60000 (91%)]\t training loss: 0.141805\n",
      "epoch: 1 [54720/60000 (91%)]\t training loss: 0.060074\n",
      "epoch: 1 [55040/60000 (92%)]\t training loss: 0.003336\n",
      "epoch: 1 [55360/60000 (92%)]\t training loss: 0.127910\n",
      "epoch: 1 [55680/60000 (93%)]\t training loss: 0.013191\n",
      "epoch: 1 [56000/60000 (93%)]\t training loss: 0.119320\n",
      "epoch: 1 [56320/60000 (94%)]\t training loss: 0.035100\n",
      "epoch: 1 [56640/60000 (94%)]\t training loss: 0.100474\n",
      "epoch: 1 [56960/60000 (95%)]\t training loss: 0.027755\n",
      "epoch: 1 [57280/60000 (95%)]\t training loss: 0.072063\n",
      "epoch: 1 [57600/60000 (96%)]\t training loss: 0.070831\n",
      "epoch: 1 [57920/60000 (97%)]\t training loss: 0.037344\n",
      "epoch: 1 [58240/60000 (97%)]\t training loss: 0.038343\n",
      "epoch: 1 [58560/60000 (98%)]\t training loss: 0.033176\n",
      "epoch: 1 [58880/60000 (98%)]\t training loss: 0.061500\n",
      "epoch: 1 [59200/60000 (99%)]\t training loss: 0.004225\n",
      "epoch: 1 [59520/60000 (99%)]\t training loss: 0.029221\n",
      "epoch: 1 [59840/60000 (100%)]\t training loss: 0.031572\n",
      "\n",
      "Test dataset: Overall Loss: 0.0483, Overall Accuracy: 9842/10000 (98%)\n",
      "\n",
      "epoch: 2 [0/60000 (0%)]\t training loss: 0.148432\n",
      "epoch: 2 [320/60000 (1%)]\t training loss: 0.035595\n",
      "epoch: 2 [640/60000 (1%)]\t training loss: 0.170459\n",
      "epoch: 2 [960/60000 (2%)]\t training loss: 0.142872\n",
      "epoch: 2 [1280/60000 (2%)]\t training loss: 0.040343\n",
      "epoch: 2 [1600/60000 (3%)]\t training loss: 0.022772\n",
      "epoch: 2 [1920/60000 (3%)]\t training loss: 0.029416\n",
      "epoch: 2 [2240/60000 (4%)]\t training loss: 0.002393\n",
      "epoch: 2 [2560/60000 (4%)]\t training loss: 0.005788\n",
      "epoch: 2 [2880/60000 (5%)]\t training loss: 0.057401\n",
      "epoch: 2 [3200/60000 (5%)]\t training loss: 0.007779\n",
      "epoch: 2 [3520/60000 (6%)]\t training loss: 0.199560\n",
      "epoch: 2 [3840/60000 (6%)]\t training loss: 0.032935\n",
      "epoch: 2 [4160/60000 (7%)]\t training loss: 0.147857\n",
      "epoch: 2 [4480/60000 (7%)]\t training loss: 0.000550\n",
      "epoch: 2 [4800/60000 (8%)]\t training loss: 0.046387\n",
      "epoch: 2 [5120/60000 (9%)]\t training loss: 0.236434\n",
      "epoch: 2 [5440/60000 (9%)]\t training loss: 0.120077\n",
      "epoch: 2 [5760/60000 (10%)]\t training loss: 0.011540\n",
      "epoch: 2 [6080/60000 (10%)]\t training loss: 0.181988\n",
      "epoch: 2 [6400/60000 (11%)]\t training loss: 0.082515\n",
      "epoch: 2 [6720/60000 (11%)]\t training loss: 0.124757\n",
      "epoch: 2 [7040/60000 (12%)]\t training loss: 0.064714\n",
      "epoch: 2 [7360/60000 (12%)]\t training loss: 0.057014\n",
      "epoch: 2 [7680/60000 (13%)]\t training loss: 0.113010\n",
      "epoch: 2 [8000/60000 (13%)]\t training loss: 0.025812\n",
      "epoch: 2 [8320/60000 (14%)]\t training loss: 0.038798\n",
      "epoch: 2 [8640/60000 (14%)]\t training loss: 0.100231\n",
      "epoch: 2 [8960/60000 (15%)]\t training loss: 0.508570\n",
      "epoch: 2 [9280/60000 (15%)]\t training loss: 0.111027\n",
      "epoch: 2 [9600/60000 (16%)]\t training loss: 0.036131\n",
      "epoch: 2 [9920/60000 (17%)]\t training loss: 0.016199\n",
      "epoch: 2 [10240/60000 (17%)]\t training loss: 0.009179\n",
      "epoch: 2 [10560/60000 (18%)]\t training loss: 0.090072\n",
      "epoch: 2 [10880/60000 (18%)]\t training loss: 0.029713\n",
      "epoch: 2 [11200/60000 (19%)]\t training loss: 0.042088\n",
      "epoch: 2 [11520/60000 (19%)]\t training loss: 0.054542\n",
      "epoch: 2 [11840/60000 (20%)]\t training loss: 0.017043\n",
      "epoch: 2 [12160/60000 (20%)]\t training loss: 0.010071\n",
      "epoch: 2 [12480/60000 (21%)]\t training loss: 0.034758\n",
      "epoch: 2 [12800/60000 (21%)]\t training loss: 0.057462\n",
      "epoch: 2 [13120/60000 (22%)]\t training loss: 0.155569\n",
      "epoch: 2 [13440/60000 (22%)]\t training loss: 0.032448\n",
      "epoch: 2 [13760/60000 (23%)]\t training loss: 0.017689\n",
      "epoch: 2 [14080/60000 (23%)]\t training loss: 0.054750\n",
      "epoch: 2 [14400/60000 (24%)]\t training loss: 0.028396\n",
      "epoch: 2 [14720/60000 (25%)]\t training loss: 0.040044\n",
      "epoch: 2 [15040/60000 (25%)]\t training loss: 0.025929\n",
      "epoch: 2 [15360/60000 (26%)]\t training loss: 0.178796\n",
      "epoch: 2 [15680/60000 (26%)]\t training loss: 0.012365\n",
      "epoch: 2 [16000/60000 (27%)]\t training loss: 0.012356\n",
      "epoch: 2 [16320/60000 (27%)]\t training loss: 0.014735\n",
      "epoch: 2 [16640/60000 (28%)]\t training loss: 0.058034\n",
      "epoch: 2 [16960/60000 (28%)]\t training loss: 0.008518\n",
      "epoch: 2 [17280/60000 (29%)]\t training loss: 0.049693\n",
      "epoch: 2 [17600/60000 (29%)]\t training loss: 0.074629\n",
      "epoch: 2 [17920/60000 (30%)]\t training loss: 0.000922\n",
      "epoch: 2 [18240/60000 (30%)]\t training loss: 0.057202\n",
      "epoch: 2 [18560/60000 (31%)]\t training loss: 0.014820\n",
      "epoch: 2 [18880/60000 (31%)]\t training loss: 0.013207\n",
      "epoch: 2 [19200/60000 (32%)]\t training loss: 0.011952\n",
      "epoch: 2 [19520/60000 (33%)]\t training loss: 0.010649\n",
      "epoch: 2 [19840/60000 (33%)]\t training loss: 0.162960\n",
      "epoch: 2 [20160/60000 (34%)]\t training loss: 0.011751\n",
      "epoch: 2 [20480/60000 (34%)]\t training loss: 0.005939\n",
      "epoch: 2 [20800/60000 (35%)]\t training loss: 0.021869\n",
      "epoch: 2 [21120/60000 (35%)]\t training loss: 0.048886\n",
      "epoch: 2 [21440/60000 (36%)]\t training loss: 0.043737\n",
      "epoch: 2 [21760/60000 (36%)]\t training loss: 0.065251\n",
      "epoch: 2 [22080/60000 (37%)]\t training loss: 0.073207\n",
      "epoch: 2 [22400/60000 (37%)]\t training loss: 0.002014\n",
      "epoch: 2 [22720/60000 (38%)]\t training loss: 0.005464\n",
      "epoch: 2 [23040/60000 (38%)]\t training loss: 0.020396\n",
      "epoch: 2 [23360/60000 (39%)]\t training loss: 0.006349\n",
      "epoch: 2 [23680/60000 (39%)]\t training loss: 0.004893\n",
      "epoch: 2 [24000/60000 (40%)]\t training loss: 0.053034\n",
      "epoch: 2 [24320/60000 (41%)]\t training loss: 0.001903\n",
      "epoch: 2 [24640/60000 (41%)]\t training loss: 0.019407\n",
      "epoch: 2 [24960/60000 (42%)]\t training loss: 0.074176\n",
      "epoch: 2 [25280/60000 (42%)]\t training loss: 0.004249\n",
      "epoch: 2 [25600/60000 (43%)]\t training loss: 0.013371\n",
      "epoch: 2 [25920/60000 (43%)]\t training loss: 0.001348\n",
      "epoch: 2 [26240/60000 (44%)]\t training loss: 0.051272\n",
      "epoch: 2 [26560/60000 (44%)]\t training loss: 0.028647\n",
      "epoch: 2 [26880/60000 (45%)]\t training loss: 0.118412\n",
      "epoch: 2 [27200/60000 (45%)]\t training loss: 0.018134\n",
      "epoch: 2 [27520/60000 (46%)]\t training loss: 0.012101\n",
      "epoch: 2 [27840/60000 (46%)]\t training loss: 0.078246\n",
      "epoch: 2 [28160/60000 (47%)]\t training loss: 0.119009\n",
      "epoch: 2 [28480/60000 (47%)]\t training loss: 0.042234\n",
      "epoch: 2 [28800/60000 (48%)]\t training loss: 0.018398\n",
      "epoch: 2 [29120/60000 (49%)]\t training loss: 0.040508\n",
      "epoch: 2 [29440/60000 (49%)]\t training loss: 0.125199\n",
      "epoch: 2 [29760/60000 (50%)]\t training loss: 0.036886\n",
      "epoch: 2 [30080/60000 (50%)]\t training loss: 0.004259\n",
      "epoch: 2 [30400/60000 (51%)]\t training loss: 0.033610\n",
      "epoch: 2 [30720/60000 (51%)]\t training loss: 0.350335\n",
      "epoch: 2 [31040/60000 (52%)]\t training loss: 0.002374\n",
      "epoch: 2 [31360/60000 (52%)]\t training loss: 0.023254\n",
      "epoch: 2 [31680/60000 (53%)]\t training loss: 0.014615\n",
      "epoch: 2 [32000/60000 (53%)]\t training loss: 0.172743\n",
      "epoch: 2 [32320/60000 (54%)]\t training loss: 0.013569\n",
      "epoch: 2 [32640/60000 (54%)]\t training loss: 0.096839\n",
      "epoch: 2 [32960/60000 (55%)]\t training loss: 0.014954\n",
      "epoch: 2 [33280/60000 (55%)]\t training loss: 0.012430\n",
      "epoch: 2 [33600/60000 (56%)]\t training loss: 0.382344\n",
      "epoch: 2 [33920/60000 (57%)]\t training loss: 0.064414\n",
      "epoch: 2 [34240/60000 (57%)]\t training loss: 0.046253\n",
      "epoch: 2 [34560/60000 (58%)]\t training loss: 0.027509\n",
      "epoch: 2 [34880/60000 (58%)]\t training loss: 0.020421\n",
      "epoch: 2 [35200/60000 (59%)]\t training loss: 0.014596\n",
      "epoch: 2 [35520/60000 (59%)]\t training loss: 0.010094\n",
      "epoch: 2 [35840/60000 (60%)]\t training loss: 0.009228\n",
      "epoch: 2 [36160/60000 (60%)]\t training loss: 0.176375\n",
      "epoch: 2 [36480/60000 (61%)]\t training loss: 0.062533\n",
      "epoch: 2 [36800/60000 (61%)]\t training loss: 0.022775\n",
      "epoch: 2 [37120/60000 (62%)]\t training loss: 0.307977\n",
      "epoch: 2 [37440/60000 (62%)]\t training loss: 0.077523\n",
      "epoch: 2 [37760/60000 (63%)]\t training loss: 0.207537\n",
      "epoch: 2 [38080/60000 (63%)]\t training loss: 0.124549\n",
      "epoch: 2 [38400/60000 (64%)]\t training loss: 0.108539\n",
      "epoch: 2 [38720/60000 (65%)]\t training loss: 0.008669\n",
      "epoch: 2 [39040/60000 (65%)]\t training loss: 0.011641\n",
      "epoch: 2 [39360/60000 (66%)]\t training loss: 0.047138\n",
      "epoch: 2 [39680/60000 (66%)]\t training loss: 0.000854\n",
      "epoch: 2 [40000/60000 (67%)]\t training loss: 0.183872\n",
      "epoch: 2 [40320/60000 (67%)]\t training loss: 0.070312\n",
      "epoch: 2 [40640/60000 (68%)]\t training loss: 0.019020\n",
      "epoch: 2 [40960/60000 (68%)]\t training loss: 0.002862\n",
      "epoch: 2 [41280/60000 (69%)]\t training loss: 0.042357\n",
      "epoch: 2 [41600/60000 (69%)]\t training loss: 0.025211\n",
      "epoch: 2 [41920/60000 (70%)]\t training loss: 0.001364\n",
      "epoch: 2 [42240/60000 (70%)]\t training loss: 0.000248\n",
      "epoch: 2 [42560/60000 (71%)]\t training loss: 0.013707\n",
      "epoch: 2 [42880/60000 (71%)]\t training loss: 0.020216\n",
      "epoch: 2 [43200/60000 (72%)]\t training loss: 0.028320\n",
      "epoch: 2 [43520/60000 (73%)]\t training loss: 0.099151\n",
      "epoch: 2 [43840/60000 (73%)]\t training loss: 0.007778\n",
      "epoch: 2 [44160/60000 (74%)]\t training loss: 0.113544\n",
      "epoch: 2 [44480/60000 (74%)]\t training loss: 0.013604\n",
      "epoch: 2 [44800/60000 (75%)]\t training loss: 0.020565\n",
      "epoch: 2 [45120/60000 (75%)]\t training loss: 0.003993\n",
      "epoch: 2 [45440/60000 (76%)]\t training loss: 0.078721\n",
      "epoch: 2 [45760/60000 (76%)]\t training loss: 0.128471\n",
      "epoch: 2 [46080/60000 (77%)]\t training loss: 0.175231\n",
      "epoch: 2 [46400/60000 (77%)]\t training loss: 0.268497\n",
      "epoch: 2 [46720/60000 (78%)]\t training loss: 0.067589\n",
      "epoch: 2 [47040/60000 (78%)]\t training loss: 0.002530\n",
      "epoch: 2 [47360/60000 (79%)]\t training loss: 0.009323\n",
      "epoch: 2 [47680/60000 (79%)]\t training loss: 0.124648\n",
      "epoch: 2 [48000/60000 (80%)]\t training loss: 0.266937\n",
      "epoch: 2 [48320/60000 (81%)]\t training loss: 0.013843\n",
      "epoch: 2 [48640/60000 (81%)]\t training loss: 0.014604\n",
      "epoch: 2 [48960/60000 (82%)]\t training loss: 0.104128\n",
      "epoch: 2 [49280/60000 (82%)]\t training loss: 0.055561\n",
      "epoch: 2 [49600/60000 (83%)]\t training loss: 0.091566\n",
      "epoch: 2 [49920/60000 (83%)]\t training loss: 0.031699\n",
      "epoch: 2 [50240/60000 (84%)]\t training loss: 0.082105\n",
      "epoch: 2 [50560/60000 (84%)]\t training loss: 0.007379\n",
      "epoch: 2 [50880/60000 (85%)]\t training loss: 0.361247\n",
      "epoch: 2 [51200/60000 (85%)]\t training loss: 0.006942\n",
      "epoch: 2 [51520/60000 (86%)]\t training loss: 0.011507\n",
      "epoch: 2 [51840/60000 (86%)]\t training loss: 0.454397\n",
      "epoch: 2 [52160/60000 (87%)]\t training loss: 0.014554\n",
      "epoch: 2 [52480/60000 (87%)]\t training loss: 0.104516\n",
      "epoch: 2 [52800/60000 (88%)]\t training loss: 0.312201\n",
      "epoch: 2 [53120/60000 (89%)]\t training loss: 0.007312\n",
      "epoch: 2 [53440/60000 (89%)]\t training loss: 0.100615\n",
      "epoch: 2 [53760/60000 (90%)]\t training loss: 0.069251\n",
      "epoch: 2 [54080/60000 (90%)]\t training loss: 0.022937\n",
      "epoch: 2 [54400/60000 (91%)]\t training loss: 0.143610\n",
      "epoch: 2 [54720/60000 (91%)]\t training loss: 0.363995\n",
      "epoch: 2 [55040/60000 (92%)]\t training loss: 0.029128\n",
      "epoch: 2 [55360/60000 (92%)]\t training loss: 0.015258\n",
      "epoch: 2 [55680/60000 (93%)]\t training loss: 0.161825\n",
      "epoch: 2 [56000/60000 (93%)]\t training loss: 0.010618\n",
      "epoch: 2 [56320/60000 (94%)]\t training loss: 0.197702\n",
      "epoch: 2 [56640/60000 (94%)]\t training loss: 0.420886\n",
      "epoch: 2 [56960/60000 (95%)]\t training loss: 0.004185\n",
      "epoch: 2 [57280/60000 (95%)]\t training loss: 0.023571\n",
      "epoch: 2 [57600/60000 (96%)]\t training loss: 0.113885\n",
      "epoch: 2 [57920/60000 (97%)]\t training loss: 0.015618\n",
      "epoch: 2 [58240/60000 (97%)]\t training loss: 0.065530\n",
      "epoch: 2 [58560/60000 (98%)]\t training loss: 0.011438\n",
      "epoch: 2 [58880/60000 (98%)]\t training loss: 0.009815\n",
      "epoch: 2 [59200/60000 (99%)]\t training loss: 0.149786\n",
      "epoch: 2 [59520/60000 (99%)]\t training loss: 0.077722\n",
      "epoch: 2 [59840/60000 (100%)]\t training loss: 0.010120\n",
      "\n",
      "Test dataset: Overall Loss: 0.0419, Overall Accuracy: 9856/10000 (99%)\n",
      "\n"
     ]
    }
   ],
   "source": [
    "for epoch in range(1, 3):\n",
    "    train(model, device, train_dataloader, optimizer, epoch)\n",
    "    test(model, device, test_dataloader)"
   ]
  },
  {
   "cell_type": "markdown",
   "metadata": {},
   "source": [
    "## run inference on trained model"
   ]
  },
  {
   "cell_type": "code",
   "execution_count": 11,
   "metadata": {
    "scrolled": true
   },
   "outputs": [
    {
     "data": {
      "image/png": "[encoded data removed]",
      "text/plain": [
       "<Figure size 640x480 with 1 Axes>"
      ]
     },
     "metadata": {},
     "output_type": "display_data"
    }
   ],
   "source": [
    "test_samples = enumerate(test_dataloader)\n",
    "b_i, (sample_data, sample_targets) = next(test_samples)\n",
    "\n",
    "plt.imshow(sample_data[0][0], cmap='gray', interpolation='none')\n",
    "plt.show()"
   ]
  },
  {
   "cell_type": "code",
   "execution_count": 12,
   "metadata": {},
   "outputs": [
    {
     "name": "stdout",
     "output_type": "stream",
     "text": [
      "Model prediction is : 7\n",
      "Ground truth is : 7\n"
     ]
    }
   ],
   "source": [
    "print(f\"Model prediction is : {model(sample_data).data.max(1)[1][0]}\")\n",
    "print(f\"Ground truth is : {sample_targets[0]}\")"
   ]
  },
  {
   "cell_type": "code",
   "execution_count": null,
   "metadata": {},
   "outputs": [],
   "source": []
  }
 ],
 "metadata": {
  "kernelspec": {
   "display_name": "Python 3 (ipykernel)",
   "language": "python",
   "name": "python3"
  },
  "language_info": {
   "codemirror_mode": {
    "name": "ipython",
    "version": 3
   },
   "file_extension": ".py",
   "mimetype": "text/x-python",
   "name": "python",
   "nbconvert_exporter": "python",
   "pygments_lexer": "ipython3",
   "version": "3.9.19"
  }
 },
 "nbformat": 4,
 "nbformat_minor": 4
}
